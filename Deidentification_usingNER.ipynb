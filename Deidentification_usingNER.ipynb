{
  "nbformat": 4,
  "nbformat_minor": 0,
  "metadata": {
    "colab": {
      "provenance": []
    },
    "kernelspec": {
      "name": "python3",
      "display_name": "Python 3"
    },
    "language_info": {
      "name": "python"
    }
  },
  "cells": [
    {
      "cell_type": "code",
      "execution_count": 1,
      "metadata": {
        "id": "Fu-AlpgOHM3U"
      },
      "outputs": [],
      "source": [
        "%%capture\n",
        "\n",
        "!wget 'https://github.com/CLC-HCMUS/ViMs-Dataset/raw/master/ViMs.zip'\n",
        "!unzip 'ViMs.zip'\n",
        "\n",
        "# Install the vncorenlp python wrapper\n",
        "!pip install vncorenlp\n",
        "\n",
        "# Download VnCoreNLP-1.1.1.jar & its word segmentation component (i.e. RDRSegmenter)\n",
        "!mkdir -p vncorenlp/models/wordsegmenter\n",
        "!wget https://raw.githubusercontent.com/vncorenlp/VnCoreNLP/master/VnCoreNLP-1.1.1.jar\n",
        "!wget https://raw.githubusercontent.com/vncorenlp/VnCoreNLP/master/models/wordsegmenter/vi-vocab\n",
        "!wget https://raw.githubusercontent.com/vncorenlp/VnCoreNLP/master/models/wordsegmenter/wordsegmenter.rdr\n",
        "!mv VnCoreNLP-1.1.1.jar vncorenlp/\n",
        "!mv vi-vocab vncorenlp/models/wordsegmenter/\n",
        "!mv wordsegmenter.rdr vncorenlp/models/wordsegmenter/\n",
        "!pip install datasets==1.0.2"
      ]
    },
    {
      "cell_type": "code",
      "source": [
        "import glob\n",
        "import pandas as pd\n",
        "import concurrent.futures\n",
        "from datasets import *"
      ],
      "metadata": {
        "id": "2XJKB1ZPHQ5I"
      },
      "execution_count": 2,
      "outputs": []
    },
    {
      "cell_type": "code",
      "source": [
        "from vncorenlp import VnCoreNLP\n",
        "rdrsegmenter = VnCoreNLP(\"./vncorenlp/VnCoreNLP-1.1.1.jar\", annotators=\"wsegr,pos,ner\", max_heap_size='-Xmx2g')"
      ],
      "metadata": {
        "colab": {
          "base_uri": "https://localhost:8080/",
          "height": 280
        },
        "id": "3D2beM4MHQ7N",
        "outputId": "34684934-c5eb-4bf8-8aa5-f018fc240c66"
      },
      "execution_count": 6,
      "outputs": [
        {
          "output_type": "error",
          "ename": "KeyboardInterrupt",
          "evalue": "",
          "traceback": [
            "\u001b[0;31m---------------------------------------------------------------------------\u001b[0m",
            "\u001b[0;31mKeyboardInterrupt\u001b[0m                         Traceback (most recent call last)",
            "\u001b[0;32m<ipython-input-6-5d529cdc03ce>\u001b[0m in \u001b[0;36m<cell line: 2>\u001b[0;34m()\u001b[0m\n\u001b[1;32m      1\u001b[0m \u001b[0;32mfrom\u001b[0m \u001b[0mvncorenlp\u001b[0m \u001b[0;32mimport\u001b[0m \u001b[0mVnCoreNLP\u001b[0m\u001b[0;34m\u001b[0m\u001b[0;34m\u001b[0m\u001b[0m\n\u001b[0;32m----> 2\u001b[0;31m \u001b[0mrdrsegmenter\u001b[0m \u001b[0;34m=\u001b[0m \u001b[0mVnCoreNLP\u001b[0m\u001b[0;34m(\u001b[0m\u001b[0;34m\"./vncorenlp/VnCoreNLP-1.1.1.jar\"\u001b[0m\u001b[0;34m,\u001b[0m \u001b[0mannotators\u001b[0m\u001b[0;34m=\u001b[0m\u001b[0;34m\"wsegr\"\u001b[0m\u001b[0;34m,\u001b[0m \u001b[0mmax_heap_size\u001b[0m\u001b[0;34m=\u001b[0m\u001b[0;34m'-Xmx2g'\u001b[0m\u001b[0;34m)\u001b[0m\u001b[0;34m\u001b[0m\u001b[0;34m\u001b[0m\u001b[0m\n\u001b[0m",
            "\u001b[0;32m/usr/local/lib/python3.10/dist-packages/vncorenlp/vncorenlp.py\u001b[0m in \u001b[0;36m__init__\u001b[0;34m(self, address, port, timeout, annotators, max_heap_size, quiet)\u001b[0m\n\u001b[1;32m     76\u001b[0m             \u001b[0mself\u001b[0m\u001b[0;34m.\u001b[0m\u001b[0mlogger\u001b[0m\u001b[0;34m.\u001b[0m\u001b[0minfo\u001b[0m\u001b[0;34m(\u001b[0m\u001b[0;34m'Waiting until the server is available...'\u001b[0m\u001b[0;34m)\u001b[0m\u001b[0;34m\u001b[0m\u001b[0;34m\u001b[0m\u001b[0m\n\u001b[1;32m     77\u001b[0m             \u001b[0mattempts\u001b[0m \u001b[0;34m+=\u001b[0m \u001b[0;36m1\u001b[0m\u001b[0;34m\u001b[0m\u001b[0;34m\u001b[0m\u001b[0m\n\u001b[0;32m---> 78\u001b[0;31m             \u001b[0mtime\u001b[0m\u001b[0;34m.\u001b[0m\u001b[0msleep\u001b[0m\u001b[0;34m(\u001b[0m\u001b[0;36m5\u001b[0m\u001b[0;34m)\u001b[0m\u001b[0;34m\u001b[0m\u001b[0;34m\u001b[0m\u001b[0m\n\u001b[0m\u001b[1;32m     79\u001b[0m \u001b[0;34m\u001b[0m\u001b[0m\n\u001b[1;32m     80\u001b[0m         \u001b[0;31m# Store the annotators getting from the server\u001b[0m\u001b[0;34m\u001b[0m\u001b[0;34m\u001b[0m\u001b[0m\n",
            "\u001b[0;31mKeyboardInterrupt\u001b[0m: "
          ]
        }
      ]
    },
    {
      "cell_type": "code",
      "source": [
        "pathfiles = list()\n",
        "for pathdir in glob.glob('/content/ViMs/original/*'):\n",
        "  for pathfile in glob.glob(pathdir + '/original/*'):\n",
        "    pathfiles.append(pathfile)"
      ],
      "metadata": {
        "id": "-MHKfOCPHQ9i"
      },
      "execution_count": null,
      "outputs": []
    },
    {
      "cell_type": "code",
      "source": [
        "\n",
        "\n",
        "# Văn bản toa thuốc tiếng Việt\n",
        "text = \"Bệnh nhân Nguyễn Văn A được kê đơn thuốc Paracetamol vào ngày 15/10/2024.\"\n",
        "\n",
        "# Phân tích văn bản bằng VnCoreNLP\n",
        "output = rdrsegmenter.annotate(text)\n",
        "\n",
        "# Hiển thị kết quả nhận diện thực thể\n",
        "for sentence in output['sentences']:\n",
        "    for word_info in sentence:\n",
        "        word = word_info[0]\n",
        "        ner_label = word_info[-1]\n",
        "        if ner_label != 'O':  # Nếu là thực thể (PER: tên người, DATE: ngày tháng)\n",
        "            print(f\"Word: {word}, Entity: {ner_label}\")\n",
        "\n",
        "# Hàm khử định danh\n",
        "def deidentify_text_vietnamese(text, annotations):\n",
        "    deidentified_text = text\n",
        "    for sentence in annotations['sentences']:\n",
        "        for word_info in sentence:\n",
        "            word = word_info[0]\n",
        "            ner_label = word_info[-1]\n",
        "            if ner_label == 'B-PER':  # Nhận diện tên người\n",
        "                deidentified_text = deidentified_text.replace(word, \"[TÊN]\")\n",
        "            elif ner_label == 'B-DATE':  # Nhận diện ngày tháng\n",
        "                deidentified_text = deidentified_text.replace(word, \"[NGÀY]\")\n",
        "    return deidentified_text\n",
        "\n",
        "# Khử định danh văn bản\n",
        "deidentified_text = deidentify_text_vietnamese(text, output)\n",
        "print(deidentified_text)\n"
      ],
      "metadata": {
        "id": "zjsjcPBkHRBE"
      },
      "execution_count": null,
      "outputs": []
    }
  ]
}